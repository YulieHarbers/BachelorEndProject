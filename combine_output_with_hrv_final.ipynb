{
 "cells": [
  {
   "cell_type": "code",
   "id": "initial_id",
   "metadata": {
    "collapsed": true
   },
   "source": "import pandas as pd",
   "outputs": [],
   "execution_count": null
  },
  {
   "metadata": {},
   "cell_type": "code",
   "source": [
    "data = pd.read_csv(r\"C:\\Users\\20223868\\OneDrive - TU Eindhoven\\Documents\\School\\year 3\\BEP\\code\\fau_with_labels.csv\")\n",
    "hrv = pd.read_csv(r\"C:\\Users\\20223868\\OneDrive - TU Eindhoven\\Documents\\School\\year 3\\BEP\\code\\hrv_all.csv\")\n"
   ],
   "id": "dd6417ef1603c3c1",
   "outputs": [],
   "execution_count": null
  },
  {
   "metadata": {},
   "cell_type": "code",
   "source": "print(hrv.head(10))",
   "id": "fad511948d1a193d",
   "outputs": [],
   "execution_count": null
  },
  {
   "metadata": {},
   "cell_type": "code",
   "source": "print(data.head(10))",
   "id": "d2fc1ed840822823",
   "outputs": [],
   "execution_count": null
  },
  {
   "metadata": {},
   "cell_type": "code",
   "source": [
    "data['videonr'] = data['file'].str.extract(r'(\\d+)').astype(int)\n",
    "print(data.head(10))\n"
   ],
   "id": "e72fae3445ca6371",
   "outputs": [],
   "execution_count": null
  },
  {
   "metadata": {},
   "cell_type": "code",
   "source": [
    "hrv['participant'] = hrv['participant'].str.extract(r'(\\d+)').astype(int)\n",
    "data['participant'] = data['participant'].astype(int)"
   ],
   "id": "1b73e9a7681229d5",
   "outputs": [],
   "execution_count": null
  },
  {
   "metadata": {},
   "cell_type": "code",
   "source": [
    "combined_df = pd.merge(\n",
    "    hrv,\n",
    "    data,\n",
    "    on=['participant', 'videonr'],\n",
    "    how='inner'\n",
    ")"
   ],
   "id": "7303791ae53640da",
   "outputs": [],
   "execution_count": null
  },
  {
   "metadata": {},
   "cell_type": "code",
   "source": [
    "output_path = r\"C:\\Users\\20223868\\OneDrive - TU Eindhoven\\Documents\\School\\year 3\\BEP\\code\\output_combined.csv\"\n",
    "combined_df.to_csv(output_path, index=False)"
   ],
   "id": "46896cabce9971fa",
   "outputs": [],
   "execution_count": null
  }
 ],
 "metadata": {
  "kernelspec": {
   "display_name": "Python 3",
   "language": "python",
   "name": "python3"
  },
  "language_info": {
   "codemirror_mode": {
    "name": "ipython",
    "version": 2
   },
   "file_extension": ".py",
   "mimetype": "text/x-python",
   "name": "python",
   "nbconvert_exporter": "python",
   "pygments_lexer": "ipython2",
   "version": "2.7.6"
  }
 },
 "nbformat": 4,
 "nbformat_minor": 5
}
