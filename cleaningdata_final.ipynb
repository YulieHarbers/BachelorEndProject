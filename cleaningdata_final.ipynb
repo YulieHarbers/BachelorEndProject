{
 "cells": [
  {
   "cell_type": "code",
   "id": "initial_id",
   "metadata": {
    "collapsed": true
   },
   "source": [
    "import pandas as pd\n",
    "import matplotlib.pyplot as plt\n",
    "import seaborn as sns\n",
    "from scipy.stats import zscore"
   ],
   "outputs": [],
   "execution_count": null
  },
  {
   "metadata": {},
   "cell_type": "code",
   "source": "combined_df = pd.read_csv(r\"C:\\Users\\20223868\\OneDrive - TU Eindhoven\\Documents\\School\\year 3\\BEP\\code\\output_combined.csv\")",
   "id": "e0df6e8ab09bba53",
   "outputs": [],
   "execution_count": null
  },
  {
   "metadata": {},
   "cell_type": "code",
   "source": "combined_df.columns.tolist()",
   "id": "4010afc5d7bfe47f",
   "outputs": [],
   "execution_count": null
  },
  {
   "metadata": {},
   "cell_type": "code",
   "source": "combined_df.rename(columns={'MeanHR_3_prev_diff_3': 'MeanHR_prev_diff_3'}, inplace=True)\n",
   "id": "8c0d2b62855c9464",
   "outputs": [],
   "execution_count": null
  },
  {
   "metadata": {},
   "cell_type": "code",
   "source": "combined_df.columns.tolist()",
   "id": "97887753eb990c24",
   "outputs": [],
   "execution_count": null
  },
  {
   "metadata": {},
   "cell_type": "code",
   "source": [
    "for base_var in ['RMSSD', 'SDNN', 'MeanNN',\"SDRMSSD\", 'LF/HF', 'MeanHR_prev_diff']:\n",
    "    raw_std = combined_df[base_var].std()\n",
    "    windowed_std = combined_df[f\"{base_var}_3\"].std()\n",
    "    print(f\"{base_var} - 10s STD: {raw_std:.2f}, 30s STD: {windowed_std:.2f}\")\n"
   ],
   "id": "cc1eeb3c916e02f0",
   "outputs": [],
   "execution_count": null
  },
  {
   "metadata": {},
   "cell_type": "code",
   "source": [
    "for base_var in ['RMSSD', 'SDNN', 'MeanNN',\"SDRMSSD\", 'LF/HF', 'MeanHR_prev_diff']:\n",
    "    raw_cv = combined_df[base_var].std() / combined_df[base_var].mean()\n",
    "    windowed_cv = combined_df[f\"{base_var}_3\"].std() / combined_df[f\"{base_var}_3\"].mean()\n",
    "    print(f\"{base_var} - 10s CV: {raw_cv:.2f}, 30s CV: {windowed_cv:.2f}\")\n"
   ],
   "id": "31138c0dbcd43011",
   "outputs": [],
   "execution_count": null
  },
  {
   "metadata": {},
   "cell_type": "code",
   "source": [
    "metrics = ['RMSSD', 'SDNN', 'MeanNN',\"SDRMSSD\", 'LF/HF', 'MeanHR_prev_diff']\n",
    "\n",
    "for metric in metrics:\n",
    "    try:\n",
    "        # Compute per-participant μ and σ for 10s window\n",
    "        group_10s = combined_df.groupby(\"participant\")[metric]\n",
    "        mu_10s = group_10s.mean().mean()\n",
    "        sigma_10s = group_10s.std().mean()\n",
    "        snr_10s = mu_10s / sigma_10s\n",
    "\n",
    "        # Compute per-participant μ and σ for 30s window\n",
    "        group_30s = combined_df.groupby(\"participant\")[f\"{metric}_3\"]\n",
    "        mu_30s = group_30s.mean().mean()\n",
    "        sigma_30s = group_30s.std().mean()\n",
    "        snr_30s = mu_30s / sigma_30s\n",
    "\n",
    "        print(f\"{metric} SNR (μ/σ) → 10s: {snr_10s:.2f}, 30s: {snr_30s:.2f}\")\n",
    "\n",
    "    except KeyError as e:\n",
    "        print(f\"{metric}: Missing data for one of the time windows ({e})\")\n"
   ],
   "id": "9e0309c8063698e7",
   "outputs": [],
   "execution_count": null
  },
  {
   "metadata": {},
   "cell_type": "code",
   "source": [
    "'''\n",
    "#filter per participant\n",
    "import numpy as np\n",
    "variablelist = ['MeanHR_prev_diff_3',\n",
    "    'RMSSD_3_mean_diff_3',\n",
    " 'MeanNN_3_mean_diff_3',\n",
    " 'SDNN_3_mean_diff_3',\n",
    " 'SDRMSSD_3_mean_diff_3',\n",
    " 'LF/HF_3_mean_diff_3',]\n",
    "\n",
    "filtered_dfs = []\n",
    "for participant, group_df in combined_df.groupby('participant'):\n",
    "    mask = pd.Series(True, index=group_df.index)\n",
    "\n",
    "    for variable in variablelist:\n",
    "        z_scores = (group_df[variable] - group_df[variable].mean()) / group_df[variable].std()\n",
    "        mask = mask & (np.abs(z_scores) < 3)\n",
    "    filtered_dfs.append(group_df[mask])\n",
    "\n",
    "filtered_df = pd.concat(filtered_dfs, ignore_index=True)\n",
    "'''"
   ],
   "id": "12609a9baee5a4bb",
   "outputs": [],
   "execution_count": null
  },
  {
   "metadata": {},
   "cell_type": "code",
   "source": [
    "'''\n",
    "#filter and visualize in total\n",
    "variablelist= ['MeanHR_prev_diff_3',\n",
    "    'RMSSD_3_mean_diff_3',\n",
    " 'MeanNN_3_mean_diff_3',\n",
    " 'SDNN_3_mean_diff_3',\n",
    " 'SDRMSSD_3_mean_diff_3',\n",
    " 'LF/HF_3_mean_diff_3',]\n",
    "combined_df = filtered_df\n",
    "for variable in variablelist:\n",
    "    z_scores = zscore(combined_df[variable])\n",
    "    filtered_df = combined_df[(abs(z_scores) < 3)]\n",
    "    plt.figure()\n",
    "    sns.histplot(combined_df[variable], bins=30, kde=True).set_title(variable+\"before\")\n",
    "    sns.histplot(filtered_df[variable], bins=30, kde=True).set_title(variable+\"after\")\n",
    "plt.show()\n",
    "'''"
   ],
   "id": "43ea2708337e6a6d",
   "outputs": [],
   "execution_count": null
  },
  {
   "metadata": {},
   "cell_type": "code",
   "source": "filtered_df.to_csv(r\"C:\\Users\\20223868\\OneDrive - TU Eindhoven\\Documents\\School\\year 3\\BEP\\code\\output_combined_cleaned.csv\", index=False)\n",
   "id": "f9527fb6c45cdee",
   "outputs": [],
   "execution_count": null
  }
 ],
 "metadata": {
  "kernelspec": {
   "display_name": "Python 3",
   "language": "python",
   "name": "python3"
  },
  "language_info": {
   "codemirror_mode": {
    "name": "ipython",
    "version": 2
   },
   "file_extension": ".py",
   "mimetype": "text/x-python",
   "name": "python",
   "nbconvert_exporter": "python",
   "pygments_lexer": "ipython2",
   "version": "2.7.6"
  }
 },
 "nbformat": 4,
 "nbformat_minor": 5
}
