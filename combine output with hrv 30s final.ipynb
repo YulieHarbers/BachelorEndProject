{
 "cells": [
  {
   "cell_type": "code",
   "id": "initial_id",
   "metadata": {
    "collapsed": true
   },
   "source": [
    "import pandas as pd\n",
    "import numpy as np"
   ],
   "outputs": [],
   "execution_count": null
  },
  {
   "metadata": {},
   "cell_type": "code",
   "source": [
    "data = pd.read_csv(r\"C:\\Users\\20223868\\OneDrive - TU Eindhoven\\Documents\\School\\year 3\\BEP\\code\\fau_with_labels_3.csv\")\n",
    "hrv = pd.read_csv(r\"C:\\Users\\20223868\\OneDrive - TU Eindhoven\\Documents\\School\\year 3\\BEP\\code\\hrv_all.csv\")\n"
   ],
   "id": "dd6417ef1603c3c1",
   "outputs": [],
   "execution_count": null
  },
  {
   "metadata": {},
   "cell_type": "code",
   "source": [
    "hrv.shape\n",
    "data.shape"
   ],
   "id": "fad511948d1a193d",
   "outputs": [],
   "execution_count": null
  },
  {
   "metadata": {},
   "cell_type": "code",
   "source": [
    "\n",
    "print(data.head(10))"
   ],
   "id": "d2fc1ed840822823",
   "outputs": [],
   "execution_count": null
  },
  {
   "metadata": {},
   "cell_type": "code",
   "source": [
    "\n",
    "summary_3grouped = []\n",
    "hrv3_columns = ['RMSSD_3', 'SDSD_3', 'MeanHR_3', 'MeanNN_3', 'MedianNN_3', 'SDNN_3', 'SDRMSSD_3', 'LF/HF_3', 'CVNN_3', 'CVSD_3', 'RMSSD_diff_3', 'SDSD_diff_3', 'MeanHR_diff_3', 'MeanNN_diff_3', 'MedianNN_diff_3', 'SDNN_diff_3', 'SDRMSSD_diff_3', 'RMSSD_3_prev_diff_3', 'SDSD_3_prev_diff_3', 'MeanHR_3_prev_diff_3', 'MeanNN_3_prev_diff_3', 'MedianNN_3_prev_diff_3', 'SDNN_3_prev_diff_3', 'SDRMSSD_3_prev_diff_3', 'LF/HF_3_prev_diff_3', 'CVNN_3_prev_diff_3', 'CVSD_3_prev_diff_3', 'Start Time (s)_y', 'End Time (s)_y', 'RMSSD_3_mean_diff_3', 'RMSSD_3_median_diff_3', 'SDSD_3_mean_diff_3', 'SDSD_3_median_diff_3', 'MeanHR_3_mean_diff_3', 'MeanHR_3_median_diff_3', 'MeanNN_3_mean_diff_3', 'MeanNN_3_median_diff_3', 'MedianNN_3_mean_diff_3', 'MedianNN_3_median_diff_3', 'SDNN_3_mean_diff_3', 'SDNN_3_median_diff_3', 'SDRMSSD_3_mean_diff_3', 'SDRMSSD_3_median_diff_3', 'LF/HF_3_mean_diff_3', 'LF/HF_3_median_diff_3', 'CVNN_3_mean_diff_3', 'CVNN_3_median_diff_3', 'CVSD_3_mean_diff_3', 'CVSD_3_median_diff_3']\n",
    "\n",
    "for participant_id, participant_data in hrv.groupby('participant'):\n",
    "    participant_data = participant_data.reset_index(drop=True)\n",
    "    for i in range(0, len(participant_data), 3):\n",
    "        group = participant_data.iloc[i:i+3]\n",
    "        if len(group) < 2:\n",
    "            continue\n",
    "        first_video = group.iloc[0]['videonr']\n",
    "        last_video = group.iloc[-1]['videonr']\n",
    "        mean_values = group[hrv3_columns].mean()\n",
    "        result = {\n",
    "            'participant': participant_id,\n",
    "            'first_file': first_video,\n",
    "        }\n",
    "        for col in hrv3_columns:\n",
    "            result[col] = mean_values[col]\n",
    "        summary_3grouped.append(result)\n",
    "grouped_df = pd.DataFrame(summary_3grouped)\n"
   ],
   "id": "e72fae3445ca6371",
   "outputs": [],
   "execution_count": null
  },
  {
   "metadata": {},
   "cell_type": "code",
   "source": [
    "grouped_df['participant'] = grouped_df['participant'].str.extract(r'(\\d+)').astype(int)\n",
    "data['participant'] = data['participant'].astype(int)"
   ],
   "id": "1b73e9a7681229d5",
   "outputs": [],
   "execution_count": null
  },
  {
   "metadata": {},
   "cell_type": "code",
   "source": [
    "grouped_df.to_csv(r\"C:\\Users\\20223868\\OneDrive - TU Eindhoven\\Documents\\School\\year 3\\BEP\\code\\hrvcheck.csv\", index=False)\n",
    "data.to_csv(r\"C:\\Users\\20223868\\OneDrive - TU Eindhoven\\Documents\\School\\year 3\\BEP\\code\\datacheck.csv\", index=False)"
   ],
   "id": "6aab3950f7f743ea",
   "outputs": [],
   "execution_count": null
  },
  {
   "metadata": {},
   "cell_type": "code",
   "source": [
    "combined_df = pd.merge(\n",
    "    grouped_df,\n",
    "    data,\n",
    "    on=['participant', 'first_file'],\n",
    "    how='inner'\n",
    ")"
   ],
   "id": "7303791ae53640da",
   "outputs": [],
   "execution_count": null
  },
  {
   "metadata": {},
   "cell_type": "code",
   "source": [
    "output_path = r\"C:\\Users\\20223868\\OneDrive - TU Eindhoven\\Documents\\School\\year 3\\BEP\\code\\output_combined_3.csv\"\n",
    "combined_df.to_csv(output_path, index=False)"
   ],
   "id": "46896cabce9971fa",
   "outputs": [],
   "execution_count": null
  }
 ],
 "metadata": {
  "kernelspec": {
   "display_name": "Python 3",
   "language": "python",
   "name": "python3"
  },
  "language_info": {
   "codemirror_mode": {
    "name": "ipython",
    "version": 2
   },
   "file_extension": ".py",
   "mimetype": "text/x-python",
   "name": "python",
   "nbconvert_exporter": "python",
   "pygments_lexer": "ipython2",
   "version": "2.7.6"
  }
 },
 "nbformat": 4,
 "nbformat_minor": 5
}
